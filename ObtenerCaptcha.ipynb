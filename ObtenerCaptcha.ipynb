{
  "nbformat": 4,
  "nbformat_minor": 0,
  "metadata": {
    "colab": {
      "provenance": [],
      "authorship_tag": "ABX9TyPURSWAzMOJNTwWcM8dth+O",
      "include_colab_link": true
    },
    "kernelspec": {
      "name": "python3",
      "display_name": "Python 3"
    },
    "language_info": {
      "name": "python"
    }
  },
  "cells": [
    {
      "cell_type": "markdown",
      "metadata": {
        "id": "view-in-github",
        "colab_type": "text"
      },
      "source": [
        "<a href=\"https://colab.research.google.com/github/CarlosChambilla/Generador-de-Cupos-UNSAACGenerador-de-Cupos-UNSAAC/blob/main/ObtenerCaptcha.ipynb\" target=\"_parent\"><img src=\"https://colab.research.google.com/assets/colab-badge.svg\" alt=\"Open In Colab\"/></a>"
      ]
    },
    {
      "cell_type": "markdown",
      "source": [
        "Algoritmo para generar cupos"
      ],
      "metadata": {
        "id": "A7p1RuWt0YOD"
      }
    },
    {
      "cell_type": "code",
      "source": [
        "!pip install beautifulsoup4\n",
        "!pip install bs4\n",
        "!pip install urllib2\n",
        "#!pip install IO"
      ],
      "metadata": {
        "colab": {
          "base_uri": "https://localhost:8080/"
        },
        "id": "cHcyWFSM_OnO",
        "outputId": "5500ace4-cf88-438b-fe05-be092fa8b022"
      },
      "execution_count": null,
      "outputs": [
        {
          "output_type": "stream",
          "name": "stdout",
          "text": [
            "Looking in indexes: https://pypi.org/simple, https://us-python.pkg.dev/colab-wheels/public/simple/\n",
            "Requirement already satisfied: beautifulsoup4 in /usr/local/lib/python3.7/dist-packages (4.6.3)\n",
            "Looking in indexes: https://pypi.org/simple, https://us-python.pkg.dev/colab-wheels/public/simple/\n",
            "Requirement already satisfied: bs4 in /usr/local/lib/python3.7/dist-packages (0.0.1)\n",
            "Requirement already satisfied: beautifulsoup4 in /usr/local/lib/python3.7/dist-packages (from bs4) (4.6.3)\n",
            "Looking in indexes: https://pypi.org/simple, https://us-python.pkg.dev/colab-wheels/public/simple/\n",
            "\u001b[31mERROR: Could not find a version that satisfies the requirement urllib2 (from versions: none)\u001b[0m\n",
            "\u001b[31mERROR: No matching distribution found for urllib2\u001b[0m\n"
          ]
        }
      ]
    },
    {
      "cell_type": "code",
      "source": [
        "from bs4 import BeautifulSoup\n",
        "import urllib.request\n",
        "import re\n",
        "\n",
        "html_page = urllib.request.urlopen(\"http://bienestar.unsaac.edu.pe\")\n",
        "soup = BeautifulSoup(html_page)\n",
        "images = []\n",
        "for img in soup.findAll('img'):\n",
        "    images.append(img.get('src'))\n",
        "\n",
        "print(images)\n"
      ],
      "metadata": {
        "colab": {
          "base_uri": "https://localhost:8080/"
        },
        "id": "atzw6xWA8Izs",
        "outputId": "df12a74c-c17b-4d88-8947-aebb078f874f"
      },
      "execution_count": null,
      "outputs": [
        {
          "output_type": "stream",
          "name": "stdout",
          "text": [
            "['/simple-php-captcha.php?_CAPTCHA&t=0.86662100+1666627668']\n"
          ]
        }
      ]
    },
    {
      "cell_type": "code",
      "source": [
        "import requests\n",
        "import urllib.request\n",
        "from PIL import Image\n",
        "from bs4 import BeautifulSoup\n",
        "import urllib.request\n",
        "import re\n",
        "url = 'http://bienestar.unsaac.edu.pe'\n",
        "html_page = urllib.request.urlopen(\"http://bienestar.unsaac.edu.pe\")\n",
        "soup = BeautifulSoup(html_page)\n",
        "images = img.get('src')\n",
        "capcha  = url+images\n",
        "print(images)\n",
        "print(url+images)\n",
        "\n",
        "def download_img(img_url, img_name):\n",
        "    req = requests.get(img_url)\n",
        "    req.headers['User-Agent']= 'Mozilla/5.0'\n",
        "    response = req.content\n",
        "    with open(img_name, \"wb\") as f:\n",
        "       f.write(response)\n",
        "\n",
        "download_img(capcha,'capcha' +'.png')\n",
        "\n"
      ],
      "metadata": {
        "colab": {
          "base_uri": "https://localhost:8080/"
        },
        "id": "XPRYjumbQPpJ",
        "outputId": "514afefa-c128-4014-9c2f-96e5e2409047"
      },
      "execution_count": null,
      "outputs": [
        {
          "output_type": "stream",
          "name": "stdout",
          "text": [
            "/simple-php-captcha.php?_CAPTCHA&t=0.86662100+1666627668\n",
            "http://bienestar.unsaac.edu.pe/simple-php-captcha.php?_CAPTCHA&t=0.86662100+1666627668\n"
          ]
        }
      ]
    },
    {
      "cell_type": "markdown",
      "source": [
        "https://pythonprogramminglanguage.com/get-all-links-from-webpage/"
      ],
      "metadata": {
        "id": "esBsD0o1VtC4"
      }
    }
  ]
}